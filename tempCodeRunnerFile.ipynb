# 2. Prétraitement des données
# Supprimer les colonnes non pertinentes
cols_to_drop = ['Category', 'Churn Reason','Churn Score', 'Churn Category', 'City','CLTV','Contract','Country','Customer ID',
                'Customer Status','Dependents','Device Protection Plan','Gender', 'Internet Type', 'Lat Long',
                'Latitude','Longitude', 'Married', 'Multiple Lines','Number of Dependents','Number of Referrals',
                'Offer','Online Backup', 'Online Security',	'Paperless Billing', 'Partner',	'Payment Method',
                'Phone Service', 'Premium Tech Support', 'Quarter',	'Referred a Friend', 'Senior Citizen', 'Total Refunds',
                'State', 'Streaming Movies', 'Streaming Music',	'Streaming TV', 'Under 30',	'Unlimited Data', 'Zip Code']
df = df.drop([col for col in cols_to_drop if col in df.columns], axis=1)